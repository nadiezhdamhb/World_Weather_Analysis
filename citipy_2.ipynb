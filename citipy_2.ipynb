{
 "cells": [
  {
   "cell_type": "code",
   "execution_count": 1,
   "id": "21fc9f4f",
   "metadata": {},
   "outputs": [],
   "source": [
    "import csv\n",
    "import kdtree\n",
    "import os"
   ]
  },
  {
   "cell_type": "code",
   "execution_count": 2,
   "id": "e96cdb4f",
   "metadata": {},
   "outputs": [],
   "source": [
    "class City:\n",
    "    '''\n",
    "    City wraps up the info about a city, including its name, coordinates,\n",
    "    and belonging country.\n",
    "    '''\n",
    "    def __init__(self, city_name, country_code):\n",
    "        self.city_name = city_name\n",
    "        self.country_code = country_code"
   ]
  },
  {
   "cell_type": "code",
   "execution_count": 10,
   "id": "a8da6edf",
   "metadata": {},
   "outputs": [
    {
     "ename": "NameError",
     "evalue": "name '__file__' is not defined",
     "output_type": "error",
     "traceback": [
      "\u001b[1;31m---------------------------------------------------------------------------\u001b[0m",
      "\u001b[1;31mNameError\u001b[0m                                 Traceback (most recent call last)",
      "\u001b[1;32m~\\AppData\\Local\\Temp/ipykernel_14136/1075988504.py\u001b[0m in \u001b[0;36m<module>\u001b[1;34m\u001b[0m\n\u001b[0;32m      1\u001b[0m \u001b[1;31m# load the city data up\u001b[0m\u001b[1;33m\u001b[0m\u001b[1;33m\u001b[0m\u001b[0m\n\u001b[1;32m----> 2\u001b[1;33m \u001b[0m_current_dir\u001b[0m\u001b[1;33m,\u001b[0m \u001b[0m_current_filename\u001b[0m \u001b[1;33m=\u001b[0m \u001b[0mos\u001b[0m\u001b[1;33m.\u001b[0m\u001b[0mpath\u001b[0m\u001b[1;33m.\u001b[0m\u001b[0msplit\u001b[0m\u001b[1;33m(\u001b[0m\u001b[0m__file__\u001b[0m\u001b[1;33m)\u001b[0m\u001b[1;33m\u001b[0m\u001b[1;33m\u001b[0m\u001b[0m\n\u001b[0m\u001b[0;32m      3\u001b[0m \u001b[0m_world_cities_csv_path\u001b[0m \u001b[1;33m=\u001b[0m \u001b[0mos\u001b[0m\u001b[1;33m.\u001b[0m\u001b[0mpath\u001b[0m\u001b[1;33m.\u001b[0m\u001b[0mjoin\u001b[0m\u001b[1;33m(\u001b[0m\u001b[0m_current_dir\u001b[0m\u001b[1;33m,\u001b[0m \u001b[1;34m'worldcities.csv'\u001b[0m\u001b[1;33m)\u001b[0m\u001b[1;33m\u001b[0m\u001b[1;33m\u001b[0m\u001b[0m\n\u001b[0;32m      4\u001b[0m \u001b[0m_world_cities_kdtree\u001b[0m \u001b[1;33m=\u001b[0m \u001b[0mkdtree\u001b[0m\u001b[1;33m.\u001b[0m\u001b[0mcreate\u001b[0m\u001b[1;33m(\u001b[0m\u001b[0mdimensions\u001b[0m\u001b[1;33m=\u001b[0m\u001b[1;36m2\u001b[0m\u001b[1;33m)\u001b[0m\u001b[1;33m\u001b[0m\u001b[1;33m\u001b[0m\u001b[0m\n\u001b[0;32m      5\u001b[0m \u001b[0mWORLD_CITIES_DICT\u001b[0m \u001b[1;33m=\u001b[0m \u001b[1;33m{\u001b[0m\u001b[1;33m}\u001b[0m\u001b[1;33m\u001b[0m\u001b[1;33m\u001b[0m\u001b[0m\n",
      "\u001b[1;31mNameError\u001b[0m: name '__file__' is not defined"
     ]
    }
   ],
   "source": [
    "# load the city data up\n",
    "_current_dir, _current_filename = os.path.split(__file__)\n",
    "_world_cities_csv_path = os.path.join(_current_dir, 'worldcities.csv')\n",
    "_world_cities_kdtree = kdtree.create(dimensions=2)\n",
    "WORLD_CITIES_DICT = {}\n",
    "\n",
    "with open(_world_cities_csv_path, 'r') as csv_file:\n",
    "    cities = csv.reader(csv_file)\n",
    "\n",
    "    # discard the headers\n",
    "    cities.__next__()\n",
    "\n",
    "    # populate geo points into kdtree\n",
    "    for city in cities:\n",
    "        city_coordinate_key = (float(city[2]), float(city[3]))\n",
    "        _world_cities_kdtree.add(city_coordinate_key)\n",
    "        c = City(city[1], city[0])\n",
    "        WORLD_CITIES_DICT[city_coordinate_key] = c"
   ]
  },
  {
   "cell_type": "code",
   "execution_count": 4,
   "id": "17536cf9",
   "metadata": {},
   "outputs": [],
   "source": [
    "def nearest_city(latitude, longitude):\n",
    "    nearest_city_coordinate = _world_cities_kdtree.search_nn((latitude, longitude, ))\n",
    "    return WORLD_CITIES_DICT[nearest_city_coordinate[0].data]\n"
   ]
  },
  {
   "cell_type": "code",
   "execution_count": null,
   "id": "000843b2",
   "metadata": {},
   "outputs": [],
   "source": []
  }
 ],
 "metadata": {
  "kernelspec": {
   "display_name": "PythonData",
   "language": "python",
   "name": "pythondata"
  },
  "language_info": {
   "codemirror_mode": {
    "name": "ipython",
    "version": 3
   },
   "file_extension": ".py",
   "mimetype": "text/x-python",
   "name": "python",
   "nbconvert_exporter": "python",
   "pygments_lexer": "ipython3",
   "version": "3.9.7"
  }
 },
 "nbformat": 4,
 "nbformat_minor": 5
}
